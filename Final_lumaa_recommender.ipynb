{
 "cells": [
  {
   "cell_type": "code",
   "execution_count": 33,
   "id": "a39bc63e-de5a-4145-9da3-2da22782e6fb",
   "metadata": {},
   "outputs": [
    {
     "name": "stdin",
     "output_type": "stream",
     "text": [
      "Enter your food preference:  I want to eat something with high protein, high sodium\n"
     ]
    },
    {
     "name": "stdout",
     "output_type": "stream",
     "text": [
      "\n",
      "Top Recommendations:\n",
      "                 Food                                   ProductType  \\\n",
      "55              Bread                                       Protein   \n",
      "161          Crackers                                      Crackers   \n",
      "424  Leavening Agents                              Leavening Agents   \n",
      "655   Wonton Wrappers  Wonton Wrappers (Includes Egg Roll Wrappers)   \n",
      "216           Glutino                                       Glutino   \n",
      "\n",
      "                                    FlavorVariant  similarity_score  \n",
      "55                                Includes Gluten          0.473796  \n",
      "161                                    Low Sodium          0.424470  \n",
      "424                                    Low-Sodium          0.241071  \n",
      "655  Wonton Wrappers (Includes Egg Roll Wrappers)          0.000000  \n",
      "216                                Milk Chocolate          0.000000  \n"
     ]
    }
   ],
   "source": [
    "import pandas as pd\n",
    "import numpy as np\n",
    "from sklearn.feature_extraction.text import TfidfVectorizer\n",
    "from sklearn.metrics.pairwise import cosine_similarity\n",
    "\n",
    "def load_data(file_path):\n",
    "    \"\"\"Load and preprocess the baked food dataset.\"\"\"\n",
    "    df = pd.read_csv(file_path)\n",
    "    df = df.dropna().reset_index(drop=True)  # Drop missing values\n",
    "    \n",
    "    # Create a combined description column\n",
    "    df['CombinedDescription'] = df[['Food', 'ProductType', 'FlavorVariant']].astype(str).agg(' '.join, axis=1)\n",
    "    return df\n",
    "\n",
    "def preprocess_text(df, text_column):\n",
    "    \"\"\"Preprocess the text data for TF-IDF vectorization.\"\"\"\n",
    "    df[text_column] = df[text_column].astype(str).str.lower()\n",
    "    return df\n",
    "\n",
    "def compute_similarity(df, text_column, user_query, top_n=5):\n",
    "    \"\"\"Compute similarity scores and return top N recommendations.\"\"\"\n",
    "    vectorizer = TfidfVectorizer(stop_words='english')\n",
    "    tfidf_matrix = vectorizer.fit_transform(df[text_column])\n",
    "    user_vector = vectorizer.transform([user_query])\n",
    "    \n",
    "    similarity_scores = cosine_similarity(user_vector, tfidf_matrix).flatten()\n",
    "    top_indices = similarity_scores.argsort()[-top_n:][::-1]\n",
    "    \n",
    "    recommendations = df.iloc[top_indices].copy()\n",
    "    recommendations['similarity_score'] = similarity_scores[top_indices]\n",
    "    return recommendations\n",
    "\n",
    "def main():\n",
    "    \"\"\"Main function to execute the recommendation system.\"\"\"\n",
    "    file_path = \"C:/Users/Asus/BakedFoodNutritions.csv\" \n",
    "    text_column = 'CombinedDescription'  \n",
    "    \n",
    "    df = load_data(file_path)\n",
    "    df = preprocess_text(df, text_column)\n",
    "    \n",
    "    user_query = input(\"Enter your food preference: \")\n",
    "    recommendations = compute_similarity(df, text_column, user_query)\n",
    "    \n",
    "    print(\"\\nTop Recommendations:\")\n",
    "    print(recommendations[['Food', 'ProductType', 'FlavorVariant', 'similarity_score']])\n",
    "\n",
    "if __name__ == \"__main__\":\n",
    "    main()\n"
   ]
  },
  {
   "cell_type": "code",
   "execution_count": null,
   "id": "60f0ffcd-bef9-4309-9202-37193ab075c8",
   "metadata": {},
   "outputs": [],
   "source": []
  }
 ],
 "metadata": {
  "kernelspec": {
   "display_name": "Python 3 (ipykernel)",
   "language": "python",
   "name": "python3"
  },
  "language_info": {
   "codemirror_mode": {
    "name": "ipython",
    "version": 3
   },
   "file_extension": ".py",
   "mimetype": "text/x-python",
   "name": "python",
   "nbconvert_exporter": "python",
   "pygments_lexer": "ipython3",
   "version": "3.12.4"
  }
 },
 "nbformat": 4,
 "nbformat_minor": 5
}
